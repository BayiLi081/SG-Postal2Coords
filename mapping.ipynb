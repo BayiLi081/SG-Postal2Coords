{
 "cells": [
  {
   "cell_type": "code",
   "execution_count": 1,
   "metadata": {},
   "outputs": [],
   "source": [
    "import pandas as pd"
   ]
  },
  {
   "cell_type": "code",
   "execution_count": 10,
   "metadata": {},
   "outputs": [],
   "source": [
    "# read the existing postcode dictionary\n",
    "exist_postcodes = pd.read_csv('exist_postcodes.csv')\n",
    "exist_postcodes['postal'] = exist_postcodes['postal'].astype(str).str.zfill(6)\n",
    "# exist_postcodes = pd.concat([exist_postcodes, pd.DataFrame([{'postal': '530152', 'latitude': 1.3516694137356635, 'longitude': 103.88089893000945}])])\n",
    "# exist_postcodes.to_csv('exist_postcodes.csv', index=False)\n"
   ]
  },
  {
   "cell_type": "code",
   "execution_count": 11,
   "metadata": {},
   "outputs": [
    {
     "data": {
      "text/html": [
       "<div>\n",
       "<style scoped>\n",
       "    .dataframe tbody tr th:only-of-type {\n",
       "        vertical-align: middle;\n",
       "    }\n",
       "\n",
       "    .dataframe tbody tr th {\n",
       "        vertical-align: top;\n",
       "    }\n",
       "\n",
       "    .dataframe thead th {\n",
       "        text-align: right;\n",
       "    }\n",
       "</style>\n",
       "<table border=\"1\" class=\"dataframe\">\n",
       "  <thead>\n",
       "    <tr style=\"text-align: right;\">\n",
       "      <th></th>\n",
       "      <th>postal</th>\n",
       "      <th>latitude</th>\n",
       "      <th>longitude</th>\n",
       "    </tr>\n",
       "  </thead>\n",
       "  <tbody>\n",
       "    <tr>\n",
       "      <th>0</th>\n",
       "      <td>342115</td>\n",
       "      <td>1.336941</td>\n",
       "      <td>103.872599</td>\n",
       "    </tr>\n",
       "    <tr>\n",
       "      <th>1</th>\n",
       "      <td>823273</td>\n",
       "      <td>1.402200</td>\n",
       "      <td>103.901352</td>\n",
       "    </tr>\n",
       "    <tr>\n",
       "      <th>2</th>\n",
       "      <td>903808</td>\n",
       "      <td>1.226856</td>\n",
       "      <td>103.777541</td>\n",
       "    </tr>\n",
       "    <tr>\n",
       "      <th>3</th>\n",
       "      <td>610140</td>\n",
       "      <td>1.326875</td>\n",
       "      <td>103.723399</td>\n",
       "    </tr>\n",
       "    <tr>\n",
       "      <th>4</th>\n",
       "      <td>398614</td>\n",
       "      <td>1.312763</td>\n",
       "      <td>103.883519</td>\n",
       "    </tr>\n",
       "  </tbody>\n",
       "</table>\n",
       "</div>"
      ],
      "text/plain": [
       "   postal  latitude   longitude\n",
       "0  342115  1.336941  103.872599\n",
       "1  823273  1.402200  103.901352\n",
       "2  903808  1.226856  103.777541\n",
       "3  610140  1.326875  103.723399\n",
       "4  398614  1.312763  103.883519"
      ]
     },
     "execution_count": 11,
     "metadata": {},
     "output_type": "execute_result"
    }
   ],
   "source": [
    "exist_postcodes.head()"
   ]
  },
  {
   "cell_type": "code",
   "execution_count": 12,
   "metadata": {},
   "outputs": [],
   "source": [
    "# read the need to be mapped postcode dictionary\n",
    "df = pd.read_csv('postcodesforbayi.csv')\n",
    "df['postal'] = df['q_25'].astype(str).str.zfill(6)"
   ]
  },
  {
   "cell_type": "code",
   "execution_count": 13,
   "metadata": {},
   "outputs": [
    {
     "data": {
      "text/html": [
       "<div>\n",
       "<style scoped>\n",
       "    .dataframe tbody tr th:only-of-type {\n",
       "        vertical-align: middle;\n",
       "    }\n",
       "\n",
       "    .dataframe tbody tr th {\n",
       "        vertical-align: top;\n",
       "    }\n",
       "\n",
       "    .dataframe thead th {\n",
       "        text-align: right;\n",
       "    }\n",
       "</style>\n",
       "<table border=\"1\" class=\"dataframe\">\n",
       "  <thead>\n",
       "    <tr style=\"text-align: right;\">\n",
       "      <th></th>\n",
       "      <th>q_1</th>\n",
       "      <th>q_25</th>\n",
       "      <th>postal</th>\n",
       "    </tr>\n",
       "  </thead>\n",
       "  <tbody>\n",
       "    <tr>\n",
       "      <th>0</th>\n",
       "      <td>0</td>\n",
       "      <td>598163</td>\n",
       "      <td>598163</td>\n",
       "    </tr>\n",
       "    <tr>\n",
       "      <th>1</th>\n",
       "      <td>1</td>\n",
       "      <td>530526</td>\n",
       "      <td>530526</td>\n",
       "    </tr>\n",
       "    <tr>\n",
       "      <th>2</th>\n",
       "      <td>2</td>\n",
       "      <td>596720</td>\n",
       "      <td>596720</td>\n",
       "    </tr>\n",
       "    <tr>\n",
       "      <th>3</th>\n",
       "      <td>3</td>\n",
       "      <td>650423</td>\n",
       "      <td>650423</td>\n",
       "    </tr>\n",
       "    <tr>\n",
       "      <th>4</th>\n",
       "      <td>4</td>\n",
       "      <td>461042</td>\n",
       "      <td>461042</td>\n",
       "    </tr>\n",
       "  </tbody>\n",
       "</table>\n",
       "</div>"
      ],
      "text/plain": [
       "   q_1    q_25  postal\n",
       "0    0  598163  598163\n",
       "1    1  530526  530526\n",
       "2    2  596720  596720\n",
       "3    3  650423  650423\n",
       "4    4  461042  461042"
      ]
     },
     "execution_count": 13,
     "metadata": {},
     "output_type": "execute_result"
    }
   ],
   "source": [
    "df.head()"
   ]
  },
  {
   "cell_type": "code",
   "execution_count": 6,
   "metadata": {},
   "outputs": [],
   "source": [
    "# Only apply to Singapore addresses\n",
    "def get_coords_from_postcode(data, dict, postcode = 'postal', lat = 'latitude'):\n",
    "    df = pd.merge(data, dict, on = postcode, how = 'left')\n",
    "    df_undefined = df[df[lat].isnull()]\n",
    "    if len(df_undefined) == 0:\n",
    "        print('All postcodes are defined')\n",
    "    else:\n",
    "        print('There are', len(df_undefined), 'postcodes undefined')\n",
    "    return df, df_undefined"
   ]
  },
  {
   "cell_type": "code",
   "execution_count": 14,
   "metadata": {},
   "outputs": [
    {
     "name": "stdout",
     "output_type": "stream",
     "text": [
      "There are 1936 postcodes undefined\n"
     ]
    }
   ],
   "source": [
    "df, df_undefined = get_coords_from_postcode(df, exist_postcodes, postcode = 'postal')"
   ]
  },
  {
   "cell_type": "code",
   "execution_count": 15,
   "metadata": {},
   "outputs": [
    {
     "data": {
      "text/plain": [
       "array(['000nan', 'singapore', '649782', '000NIL', '579530', '124554',\n",
       "       '566356', '052613', '123355', '583721', '584113', '601241',\n",
       "       '053287', '999008', '476262', '012201', '926322', '033903',\n",
       "       '110067', '151800', '151500', '146249', 'hkjbkjh', 'gfhmjgjkg',\n",
       "       '099900', '900002', '521466', '540942', '003814', '12365shfgdygsv',\n",
       "       '444357', '670325', 'Serangoon garden', '951245', '011101',\n",
       "       '684802', '652541', '300089', '350054', '500051', '234432',\n",
       "       '210000', '740110', '710000', '460486', '522110', '436877',\n",
       "       '345687', '179742', '123456', '523686', '740617', '169469'],\n",
       "      dtype=object)"
      ]
     },
     "execution_count": 15,
     "metadata": {},
     "output_type": "execute_result"
    }
   ],
   "source": [
    "df_undefined['postal'].unique()"
   ]
  },
  {
   "cell_type": "code",
   "execution_count": 16,
   "metadata": {},
   "outputs": [],
   "source": [
    "df.to_csv('mapped.csv', index=False)"
   ]
  },
  {
   "cell_type": "code",
   "execution_count": null,
   "metadata": {},
   "outputs": [],
   "source": []
  }
 ],
 "metadata": {
  "kernelspec": {
   "display_name": "Python 3 (ipykernel)",
   "language": "python",
   "name": "python3"
  },
  "language_info": {
   "codemirror_mode": {
    "name": "ipython",
    "version": 3
   },
   "file_extension": ".py",
   "mimetype": "text/x-python",
   "name": "python",
   "nbconvert_exporter": "python",
   "pygments_lexer": "ipython3",
   "version": "3.8.10"
  },
  "vscode": {
   "interpreter": {
    "hash": "7455b52d80b290f7b5180df9e85beb074c462b6df0ed5a7b3550803a711fe908"
   }
  }
 },
 "nbformat": 4,
 "nbformat_minor": 4
}
